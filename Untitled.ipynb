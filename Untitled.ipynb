{
 "cells": [
  {
   "cell_type": "code",
   "execution_count": 3,
   "metadata": {},
   "outputs": [],
   "source": [
    "import sys\n",
    "sys.path.insert(0, 'python')"
   ]
  },
  {
   "cell_type": "code",
   "execution_count": 5,
   "metadata": {},
   "outputs": [
    {
     "ename": "TypeError",
     "evalue": "__init__() got an unexpected keyword argument 'signature'",
     "output_type": "error",
     "traceback": [
      "\u001b[0;31m---------------------------------------------------------------------------\u001b[0m",
      "\u001b[0;31mTypeError\u001b[0m                                 Traceback (most recent call last)",
      "\u001b[0;32m<ipython-input-5-792c753acc44>\u001b[0m in \u001b[0;36m<module>\u001b[0;34m()\u001b[0m\n\u001b[0;32m----> 1\u001b[0;31m \u001b[0;32mimport\u001b[0m \u001b[0mcool_tigress\u001b[0m \u001b[0;32mas\u001b[0m \u001b[0mct\u001b[0m\u001b[0;34m\u001b[0m\u001b[0m\n\u001b[0m\u001b[1;32m      2\u001b[0m \u001b[0;34m\u001b[0m\u001b[0m\n\u001b[1;32m      3\u001b[0m \u001b[0mTmin\u001b[0m \u001b[0;34m=\u001b[0m \u001b[0;36m10.0\u001b[0m\u001b[0;34m\u001b[0m\u001b[0m\n\u001b[1;32m      4\u001b[0m \u001b[0mTmax\u001b[0m \u001b[0;34m=\u001b[0m \u001b[0;36m1e1\u001b[0m\u001b[0;34m**\u001b[0m\u001b[0;36m4.1\u001b[0m\u001b[0;34m\u001b[0m\u001b[0m\n\u001b[1;32m      5\u001b[0m \u001b[0mZ\u001b[0m \u001b[0;34m=\u001b[0m \u001b[0;36m1.0\u001b[0m\u001b[0;34m\u001b[0m\u001b[0m\n",
      "\u001b[0;32m/home/jgkim/Dropbox/code/tigress_cooling/python/cool_tigress.py\u001b[0m in \u001b[0;36m<module>\u001b[0;34m()\u001b[0m\n\u001b[1;32m    383\u001b[0m \u001b[0;34m\u001b[0m\u001b[0m\n\u001b[1;32m    384\u001b[0m get_abundances = np.vectorize(get_abundances, otypes=[np.ndarray],\n\u001b[0;32m--> 385\u001b[0;31m                               signature='(),(),(),(),(),(),(),(),()->(i)')\n\u001b[0m\u001b[1;32m    386\u001b[0m \u001b[0;34m\u001b[0m\u001b[0m\n\u001b[1;32m    387\u001b[0m \u001b[0;34m\u001b[0m\u001b[0m\n",
      "\u001b[0;31mTypeError\u001b[0m: __init__() got an unexpected keyword argument 'signature'"
     ]
    }
   ],
   "source": [
    "import cool_tigress as ct\n",
    "\n",
    "Tmin = 10.0\n",
    "Tmax = 1e1**4.1\n",
    "Z = 1.0\n",
    "xi_CR = 2e-16\n",
    "G0 = 1.0\n",
    "G_PE = G0 ; G_CI = G0 ; G_CO = 1.0 ; G_H2 = 0.0\n",
    "\n",
    "T = np.logspace(np.log10(Tmin), np.log10(Tmax), num=200)\n",
    "c = ct.CoolTigress(T=T, Z=Z, xi_CR=xi_CR,\n",
    "                   G_PE=G_PE, G_CI=G_CI, G_CO=G_CO, G_H2=G_H2, equil=True)\n",
    "fig, axes = plt.subplots(2, 2, figsize=(10, 10))\n",
    "axes = axes.flatten()\n",
    "\n",
    "plt.sca(axes[0])\n",
    "plt.loglog(c.T, c.cooling, c='k', label=r'cooling ($\\Lambda$)')\n",
    "plt.loglog(c.T, c.heating, c='grey', ls='--', label=r'heating ($\\Gamma/n_{\\rm H}$)')\n",
    "plt.loglog(c.T, c.get_coolingLya()/c.nH, label=r'Lya')\n",
    "plt.loglog(c.T, c.get_coolingCII()/c.nH, label=r'CII')\n",
    "plt.loglog(c.T, c.get_coolingCO()/c.nH, label=r'CO')\n",
    "plt.loglog(c.T, c.get_coolingOI()/c.nH, label=r'OI')\n",
    "plt.loglog(c.T, c.get_coolingCI()/c.nH, label=r'CI')\n",
    "plt.xlabel('Temperature [K]')\n",
    "plt.ylabel(r'${\\rm erg}\\,{\\rm cm}^{3}\\,{\\rm s}^{-1}$')\n",
    "plt.legend()\n",
    "plt.ylim(bottom=1e-31, top=1e-22)\n",
    "\n",
    "plt.sca(axes[1])\n",
    "plt.loglog(c.T, c.Lambda*c.nH, c='k', label=r'$n_{\\rm H}\\Lambda$')\n",
    "plt.loglog(c.T, c.Gamma, c='grey', ls=':', label=r'$\\Gamma$')\n",
    "plt.loglog(c.T, c.get_coolingLya(), label=r'Lya')\n",
    "plt.loglog(c.T, c.get_coolingCII(), label=r'CII')\n",
    "plt.loglog(c.T, c.get_coolingCO(), label=r'CO')\n",
    "plt.loglog(c.T, c.get_coolingOI(), label=r'OI')\n",
    "plt.loglog(c.T, c.get_coolingCI(), label=r'CI')\n",
    "plt.xlabel('Temperature [K]')\n",
    "plt.ylabel(r'${\\rm erg}\\,{\\rm s}^{-1}\\,{\\rm H}^{-1}$')\n",
    "plt.legend()\n",
    "#ylim = plt.gca().get_ylim()\n",
    "plt.ylim(1e-28, 1e-24)\n",
    "\n",
    "plt.sca(axes[2])\n",
    "plt.loglog(c.nH, c.pok, label='therm equil')\n",
    "plt.xlabel('nH [cm^-3]')\n",
    "plt.ylabel('pressure/k_B [K cm^-3]')\n",
    "plt.legend()\n",
    "\n",
    "plt.sca(axes[3])\n",
    "plt.loglog(c.T, c.x_Cplus, label='C+')\n",
    "plt.loglog(c.T, c.x_CO, label='CO')\n",
    "plt.loglog(c.T, c.x_OI, label='OI')\n",
    "plt.loglog(c.T, c.x_CI, label='CI')\n",
    "plt.loglog(c.T, 2.0*c.x_H2, label='2*H2')\n",
    "plt.loglog(c.T, c.x_HI, label='HI')\n",
    "plt.legend()\n",
    "plt.ylim(1e-8,1.0)\n",
    "\n",
    "plt.tight_layout()"
   ]
  }
 ],
 "metadata": {
  "kernelspec": {
   "display_name": "Python [conda env:py27]",
   "language": "python",
   "name": "conda-env-py27-py"
  },
  "language_info": {
   "codemirror_mode": {
    "name": "ipython",
    "version": 2
   },
   "file_extension": ".py",
   "mimetype": "text/x-python",
   "name": "python",
   "nbconvert_exporter": "python",
   "pygments_lexer": "ipython2",
   "version": "2.7.15"
  }
 },
 "nbformat": 4,
 "nbformat_minor": 2
}
